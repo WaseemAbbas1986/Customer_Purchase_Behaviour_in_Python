{
 "cells": [
  {
   "cell_type": "code",
   "execution_count": 1,
   "metadata": {},
   "outputs": [],
   "source": [
    "import pandas as pd\n",
    "import numpy as np"
   ]
  },
  {
   "cell_type": "code",
   "execution_count": 2,
   "metadata": {},
   "outputs": [
    {
     "data": {
      "text/html": [
       "<div>\n",
       "<style scoped>\n",
       "    .dataframe tbody tr th:only-of-type {\n",
       "        vertical-align: middle;\n",
       "    }\n",
       "\n",
       "    .dataframe tbody tr th {\n",
       "        vertical-align: top;\n",
       "    }\n",
       "\n",
       "    .dataframe thead th {\n",
       "        text-align: right;\n",
       "    }\n",
       "</style>\n",
       "<table border=\"1\" class=\"dataframe\">\n",
       "  <thead>\n",
       "    <tr style=\"text-align: right;\">\n",
       "      <th></th>\n",
       "      <th>Customer_ID</th>\n",
       "      <th>Age</th>\n",
       "      <th>Gender</th>\n",
       "      <th>Loyalty_Member</th>\n",
       "      <th>Product_Type</th>\n",
       "      <th>SKU</th>\n",
       "      <th>Rating</th>\n",
       "      <th>Order_Status</th>\n",
       "      <th>Payment_Method</th>\n",
       "      <th>Total_Price</th>\n",
       "      <th>Unit_Price</th>\n",
       "      <th>Quantity</th>\n",
       "      <th>Purchase_Date</th>\n",
       "      <th>Shipping_Type</th>\n",
       "      <th>Add_ons_Purchased</th>\n",
       "      <th>Add_on_Total</th>\n",
       "    </tr>\n",
       "  </thead>\n",
       "  <tbody>\n",
       "    <tr>\n",
       "      <th>0</th>\n",
       "      <td>1000</td>\n",
       "      <td>53</td>\n",
       "      <td>Male</td>\n",
       "      <td>No</td>\n",
       "      <td>Smartphone</td>\n",
       "      <td>SKU1004</td>\n",
       "      <td>2</td>\n",
       "      <td>Cancelled</td>\n",
       "      <td>Credit Card</td>\n",
       "      <td>5538.33</td>\n",
       "      <td>791.19</td>\n",
       "      <td>7</td>\n",
       "      <td>20-03-24</td>\n",
       "      <td>Standard</td>\n",
       "      <td>Accessory,Accessory,Accessory</td>\n",
       "      <td>40.21</td>\n",
       "    </tr>\n",
       "    <tr>\n",
       "      <th>1</th>\n",
       "      <td>1000</td>\n",
       "      <td>53</td>\n",
       "      <td>Male</td>\n",
       "      <td>No</td>\n",
       "      <td>Tablet</td>\n",
       "      <td>SKU1002</td>\n",
       "      <td>3</td>\n",
       "      <td>Completed</td>\n",
       "      <td>Paypal</td>\n",
       "      <td>741.09</td>\n",
       "      <td>247.03</td>\n",
       "      <td>3</td>\n",
       "      <td>20-04-24</td>\n",
       "      <td>Overnight</td>\n",
       "      <td>Impulse Item</td>\n",
       "      <td>26.09</td>\n",
       "    </tr>\n",
       "    <tr>\n",
       "      <th>2</th>\n",
       "      <td>1002</td>\n",
       "      <td>41</td>\n",
       "      <td>Male</td>\n",
       "      <td>No</td>\n",
       "      <td>Laptop</td>\n",
       "      <td>SKU1005</td>\n",
       "      <td>3</td>\n",
       "      <td>Completed</td>\n",
       "      <td>Credit Card</td>\n",
       "      <td>1855.84</td>\n",
       "      <td>463.96</td>\n",
       "      <td>4</td>\n",
       "      <td>17-10-23</td>\n",
       "      <td>Express</td>\n",
       "      <td>NaN</td>\n",
       "      <td>0.00</td>\n",
       "    </tr>\n",
       "    <tr>\n",
       "      <th>3</th>\n",
       "      <td>1002</td>\n",
       "      <td>41</td>\n",
       "      <td>Male</td>\n",
       "      <td>Yes</td>\n",
       "      <td>Smartphone</td>\n",
       "      <td>SKU1004</td>\n",
       "      <td>2</td>\n",
       "      <td>Completed</td>\n",
       "      <td>Cash</td>\n",
       "      <td>3164.76</td>\n",
       "      <td>791.19</td>\n",
       "      <td>4</td>\n",
       "      <td>09-08-24</td>\n",
       "      <td>Overnight</td>\n",
       "      <td>Impulse Item,Impulse Item</td>\n",
       "      <td>60.16</td>\n",
       "    </tr>\n",
       "    <tr>\n",
       "      <th>4</th>\n",
       "      <td>1003</td>\n",
       "      <td>75</td>\n",
       "      <td>Male</td>\n",
       "      <td>Yes</td>\n",
       "      <td>Smartphone</td>\n",
       "      <td>SKU1001</td>\n",
       "      <td>5</td>\n",
       "      <td>Completed</td>\n",
       "      <td>Cash</td>\n",
       "      <td>41.50</td>\n",
       "      <td>20.75</td>\n",
       "      <td>2</td>\n",
       "      <td>21-05-24</td>\n",
       "      <td>Express</td>\n",
       "      <td>Accessory</td>\n",
       "      <td>35.56</td>\n",
       "    </tr>\n",
       "  </tbody>\n",
       "</table>\n",
       "</div>"
      ],
      "text/plain": [
       "   Customer_ID  Age Gender Loyalty_Member Product_Type      SKU  Rating  \\\n",
       "0         1000   53   Male             No   Smartphone  SKU1004       2   \n",
       "1         1000   53   Male             No       Tablet  SKU1002       3   \n",
       "2         1002   41   Male             No       Laptop  SKU1005       3   \n",
       "3         1002   41   Male            Yes   Smartphone  SKU1004       2   \n",
       "4         1003   75   Male            Yes   Smartphone  SKU1001       5   \n",
       "\n",
       "  Order_Status Payment_Method  Total_Price  Unit_Price  Quantity  \\\n",
       "0    Cancelled    Credit Card      5538.33      791.19         7   \n",
       "1    Completed         Paypal       741.09      247.03         3   \n",
       "2    Completed    Credit Card      1855.84      463.96         4   \n",
       "3    Completed           Cash      3164.76      791.19         4   \n",
       "4    Completed           Cash        41.50       20.75         2   \n",
       "\n",
       "  Purchase_Date Shipping_Type              Add_ons_Purchased  Add_on_Total  \n",
       "0      20-03-24      Standard  Accessory,Accessory,Accessory         40.21  \n",
       "1      20-04-24     Overnight                   Impulse Item         26.09  \n",
       "2      17-10-23       Express                            NaN          0.00  \n",
       "3      09-08-24     Overnight      Impulse Item,Impulse Item         60.16  \n",
       "4      21-05-24       Express                      Accessory         35.56  "
      ]
     },
     "execution_count": 2,
     "metadata": {},
     "output_type": "execute_result"
    }
   ],
   "source": [
    "df = pd.read_csv(\"Electronic_sales.csv\")\n",
    "df.head()"
   ]
  },
  {
   "cell_type": "code",
   "execution_count": 3,
   "metadata": {},
   "outputs": [
    {
     "data": {
      "text/html": [
       "<div>\n",
       "<style scoped>\n",
       "    .dataframe tbody tr th:only-of-type {\n",
       "        vertical-align: middle;\n",
       "    }\n",
       "\n",
       "    .dataframe tbody tr th {\n",
       "        vertical-align: top;\n",
       "    }\n",
       "\n",
       "    .dataframe thead th {\n",
       "        text-align: right;\n",
       "    }\n",
       "</style>\n",
       "<table border=\"1\" class=\"dataframe\">\n",
       "  <thead>\n",
       "    <tr style=\"text-align: right;\">\n",
       "      <th></th>\n",
       "      <th>Customer_ID</th>\n",
       "      <th>Age</th>\n",
       "      <th>Rating</th>\n",
       "      <th>Total_Price</th>\n",
       "      <th>Unit_Price</th>\n",
       "      <th>Quantity</th>\n",
       "      <th>Add_on_Total</th>\n",
       "    </tr>\n",
       "  </thead>\n",
       "  <tbody>\n",
       "    <tr>\n",
       "      <th>count</th>\n",
       "      <td>20000.000000</td>\n",
       "      <td>20000.000000</td>\n",
       "      <td>20000.000000</td>\n",
       "      <td>20000.000000</td>\n",
       "      <td>20000.000000</td>\n",
       "      <td>20000.000000</td>\n",
       "      <td>20000.000000</td>\n",
       "    </tr>\n",
       "    <tr>\n",
       "      <th>mean</th>\n",
       "      <td>10483.526550</td>\n",
       "      <td>48.994100</td>\n",
       "      <td>3.093950</td>\n",
       "      <td>3180.133419</td>\n",
       "      <td>578.631867</td>\n",
       "      <td>5.485550</td>\n",
       "      <td>62.244848</td>\n",
       "    </tr>\n",
       "    <tr>\n",
       "      <th>std</th>\n",
       "      <td>5631.732525</td>\n",
       "      <td>18.038745</td>\n",
       "      <td>1.223764</td>\n",
       "      <td>2544.978675</td>\n",
       "      <td>312.274076</td>\n",
       "      <td>2.870854</td>\n",
       "      <td>58.058431</td>\n",
       "    </tr>\n",
       "    <tr>\n",
       "      <th>min</th>\n",
       "      <td>1000.000000</td>\n",
       "      <td>18.000000</td>\n",
       "      <td>1.000000</td>\n",
       "      <td>20.750000</td>\n",
       "      <td>20.750000</td>\n",
       "      <td>1.000000</td>\n",
       "      <td>0.000000</td>\n",
       "    </tr>\n",
       "    <tr>\n",
       "      <th>25%</th>\n",
       "      <td>5478.000000</td>\n",
       "      <td>33.000000</td>\n",
       "      <td>2.000000</td>\n",
       "      <td>1139.680000</td>\n",
       "      <td>361.180000</td>\n",
       "      <td>3.000000</td>\n",
       "      <td>7.615000</td>\n",
       "    </tr>\n",
       "    <tr>\n",
       "      <th>50%</th>\n",
       "      <td>10499.500000</td>\n",
       "      <td>49.000000</td>\n",
       "      <td>3.000000</td>\n",
       "      <td>2534.490000</td>\n",
       "      <td>463.960000</td>\n",
       "      <td>5.000000</td>\n",
       "      <td>51.700000</td>\n",
       "    </tr>\n",
       "    <tr>\n",
       "      <th>75%</th>\n",
       "      <td>15504.000000</td>\n",
       "      <td>65.000000</td>\n",
       "      <td>4.000000</td>\n",
       "      <td>4639.600000</td>\n",
       "      <td>791.190000</td>\n",
       "      <td>8.000000</td>\n",
       "      <td>93.842500</td>\n",
       "    </tr>\n",
       "    <tr>\n",
       "      <th>max</th>\n",
       "      <td>19998.000000</td>\n",
       "      <td>80.000000</td>\n",
       "      <td>5.000000</td>\n",
       "      <td>11396.800000</td>\n",
       "      <td>1139.680000</td>\n",
       "      <td>10.000000</td>\n",
       "      <td>292.770000</td>\n",
       "    </tr>\n",
       "  </tbody>\n",
       "</table>\n",
       "</div>"
      ],
      "text/plain": [
       "        Customer_ID           Age        Rating   Total_Price    Unit_Price  \\\n",
       "count  20000.000000  20000.000000  20000.000000  20000.000000  20000.000000   \n",
       "mean   10483.526550     48.994100      3.093950   3180.133419    578.631867   \n",
       "std     5631.732525     18.038745      1.223764   2544.978675    312.274076   \n",
       "min     1000.000000     18.000000      1.000000     20.750000     20.750000   \n",
       "25%     5478.000000     33.000000      2.000000   1139.680000    361.180000   \n",
       "50%    10499.500000     49.000000      3.000000   2534.490000    463.960000   \n",
       "75%    15504.000000     65.000000      4.000000   4639.600000    791.190000   \n",
       "max    19998.000000     80.000000      5.000000  11396.800000   1139.680000   \n",
       "\n",
       "           Quantity  Add_on_Total  \n",
       "count  20000.000000  20000.000000  \n",
       "mean       5.485550     62.244848  \n",
       "std        2.870854     58.058431  \n",
       "min        1.000000      0.000000  \n",
       "25%        3.000000      7.615000  \n",
       "50%        5.000000     51.700000  \n",
       "75%        8.000000     93.842500  \n",
       "max       10.000000    292.770000  "
      ]
     },
     "execution_count": 3,
     "metadata": {},
     "output_type": "execute_result"
    }
   ],
   "source": [
    "df.describe()"
   ]
  },
  {
   "cell_type": "code",
   "execution_count": 4,
   "metadata": {},
   "outputs": [
    {
     "name": "stdout",
     "output_type": "stream",
     "text": [
      "<class 'pandas.core.frame.DataFrame'>\n",
      "RangeIndex: 20000 entries, 0 to 19999\n",
      "Data columns (total 16 columns):\n",
      " #   Column             Non-Null Count  Dtype  \n",
      "---  ------             --------------  -----  \n",
      " 0   Customer_ID        20000 non-null  int64  \n",
      " 1   Age                20000 non-null  int64  \n",
      " 2   Gender             19999 non-null  object \n",
      " 3   Loyalty_Member     20000 non-null  object \n",
      " 4   Product_Type       20000 non-null  object \n",
      " 5   SKU                20000 non-null  object \n",
      " 6   Rating             20000 non-null  int64  \n",
      " 7   Order_Status       20000 non-null  object \n",
      " 8   Payment_Method     20000 non-null  object \n",
      " 9   Total_Price        20000 non-null  float64\n",
      " 10  Unit_Price         20000 non-null  float64\n",
      " 11  Quantity           20000 non-null  int64  \n",
      " 12  Purchase_Date      20000 non-null  object \n",
      " 13  Shipping_Type      20000 non-null  object \n",
      " 14  Add_ons_Purchased  15132 non-null  object \n",
      " 15  Add_on_Total       20000 non-null  float64\n",
      "dtypes: float64(3), int64(4), object(9)\n",
      "memory usage: 2.4+ MB\n"
     ]
    }
   ],
   "source": [
    "df.info()"
   ]
  },
  {
   "cell_type": "code",
   "execution_count": 5,
   "metadata": {},
   "outputs": [],
   "source": [
    "# Convert date data type\n",
    "df[\"Purchase_Date\"]= df[\"Purchase_Date\"].astype(\"datetime64[ns]\")"
   ]
  },
  {
   "cell_type": "code",
   "execution_count": 6,
   "metadata": {},
   "outputs": [
    {
     "name": "stdout",
     "output_type": "stream",
     "text": [
      "<class 'pandas.core.frame.DataFrame'>\n",
      "RangeIndex: 20000 entries, 0 to 19999\n",
      "Data columns (total 16 columns):\n",
      " #   Column             Non-Null Count  Dtype         \n",
      "---  ------             --------------  -----         \n",
      " 0   Customer_ID        20000 non-null  int64         \n",
      " 1   Age                20000 non-null  int64         \n",
      " 2   Gender             19999 non-null  object        \n",
      " 3   Loyalty_Member     20000 non-null  object        \n",
      " 4   Product_Type       20000 non-null  object        \n",
      " 5   SKU                20000 non-null  object        \n",
      " 6   Rating             20000 non-null  int64         \n",
      " 7   Order_Status       20000 non-null  object        \n",
      " 8   Payment_Method     20000 non-null  object        \n",
      " 9   Total_Price        20000 non-null  float64       \n",
      " 10  Unit_Price         20000 non-null  float64       \n",
      " 11  Quantity           20000 non-null  int64         \n",
      " 12  Purchase_Date      20000 non-null  datetime64[ns]\n",
      " 13  Shipping_Type      20000 non-null  object        \n",
      " 14  Add_ons_Purchased  15132 non-null  object        \n",
      " 15  Add_on_Total       20000 non-null  float64       \n",
      "dtypes: datetime64[ns](1), float64(3), int64(4), object(8)\n",
      "memory usage: 2.4+ MB\n"
     ]
    }
   ],
   "source": [
    "df.info()"
   ]
  },
  {
   "cell_type": "code",
   "execution_count": 7,
   "metadata": {},
   "outputs": [
    {
     "data": {
      "text/plain": [
       "Product_Type\n",
       "Smartphone    21516754.69\n",
       "Smartwatch    14036273.06\n",
       "Laptop        12296239.97\n",
       "Tablet        11712000.41\n",
       "Headphones     4041400.24\n",
       "Name: Total_Price, dtype: float64"
      ]
     },
     "execution_count": 7,
     "metadata": {},
     "output_type": "execute_result"
    }
   ],
   "source": [
    "# sales by Product_Type\n",
    "df.groupby([\"Product_Type\",])[\"Total_Price\"].sum().sort_values(ascending=False)\n"
   ]
  },
  {
   "cell_type": "code",
   "execution_count": 8,
   "metadata": {},
   "outputs": [
    {
     "data": {
      "text/plain": [
       "Gender\n",
       "Male      32188816.07\n",
       "Female    31413177.98\n",
       "Name: Total_Price, dtype: float64"
      ]
     },
     "execution_count": 8,
     "metadata": {},
     "output_type": "execute_result"
    }
   ],
   "source": [
    "# Total sales By Gender\n",
    "df.groupby([\"Gender\",])[\"Total_Price\"].sum().sort_values(ascending=False)"
   ]
  },
  {
   "cell_type": "code",
   "execution_count": 9,
   "metadata": {},
   "outputs": [
    {
     "data": {
      "text/plain": [
       "Payment_Method\n",
       "Credit Card      18913772.92\n",
       "Bank Transfer    12698262.09\n",
       "PayPal           12500062.91\n",
       "Debit Card        6736217.54\n",
       "Paypal            6498781.08\n",
       "Cash              6255571.83\n",
       "Name: Total_Price, dtype: float64"
      ]
     },
     "execution_count": 9,
     "metadata": {},
     "output_type": "execute_result"
    }
   ],
   "source": [
    "# sales by Payment_Method\n",
    "df.groupby([\"Payment_Method\",])[\"Total_Price\"].sum().sort_values(ascending=False)"
   ]
  },
  {
   "cell_type": "code",
   "execution_count": 10,
   "metadata": {},
   "outputs": [
    {
     "data": {
      "text/plain": [
       "Customer_ID\n",
       "16357    34563.70\n",
       "16863    33035.92\n",
       "13813    31830.16\n",
       "11476    31077.61\n",
       "12276    30961.18\n",
       "           ...   \n",
       "5842        20.75\n",
       "7349        20.75\n",
       "5587        20.75\n",
       "1129        20.75\n",
       "1094        20.75\n",
       "Name: Total_Price, Length: 12136, dtype: float64"
      ]
     },
     "execution_count": 10,
     "metadata": {},
     "output_type": "execute_result"
    }
   ],
   "source": [
    "# sales by Customer_ID\n",
    "df.groupby([\"Customer_ID\",])[\"Total_Price\"].sum().sort_values(ascending=False)"
   ]
  },
  {
   "cell_type": "code",
   "execution_count": 11,
   "metadata": {},
   "outputs": [
    {
     "data": {
      "text/plain": [
       "Product_Type\n",
       "Headphones    5.560915\n",
       "Tablet        5.519737\n",
       "Smartwatch    5.498475\n",
       "Smartphone    5.463366\n",
       "Laptop        5.432671\n",
       "Name: Quantity, dtype: float64"
      ]
     },
     "execution_count": 11,
     "metadata": {},
     "output_type": "execute_result"
    }
   ],
   "source": [
    "# Average purchase quantities By SKUs\n",
    "df.groupby([\"Product_Type\"])[\"Quantity\"].mean().sort_values(ascending=False)"
   ]
  },
  {
   "cell_type": "code",
   "execution_count": 12,
   "metadata": {},
   "outputs": [
    {
     "data": {
      "text/plain": [
       "Product_Type\n",
       "Smartphone    331025.55\n",
       "Tablet        256240.42\n",
       "Laptop        250025.31\n",
       "Smartwatch    241423.36\n",
       "Headphones    166182.32\n",
       "Name: Add_on_Total, dtype: float64"
      ]
     },
     "execution_count": 12,
     "metadata": {},
     "output_type": "execute_result"
    }
   ],
   "source": [
    "# Total Add on sales By product Type\n",
    "df.groupby([\"Product_Type\"])[\"Add_on_Total\"].sum().sort_values(ascending=False)"
   ]
  },
  {
   "cell_type": "code",
   "execution_count": 13,
   "metadata": {},
   "outputs": [
    {
     "data": {
      "text/plain": [
       "Gender\n",
       "Female    625641.31\n",
       "Male      619255.65\n",
       "Name: Add_on_Total, dtype: float64"
      ]
     },
     "execution_count": 13,
     "metadata": {},
     "output_type": "execute_result"
    }
   ],
   "source": [
    "# Total Add on sales By Gender\n",
    "# find that female purchse more accessories than male customers\n",
    "df.groupby([\"Gender\"])[\"Add_on_Total\"].sum().sort_values(ascending=False)"
   ]
  },
  {
   "cell_type": "code",
   "execution_count": 14,
   "metadata": {},
   "outputs": [
    {
     "data": {
      "text/plain": [
       "Loyalty_Member\n",
       "No     49976751.24\n",
       "Yes    13625917.13\n",
       "Name: Total_Price, dtype: float64"
      ]
     },
     "execution_count": 14,
     "metadata": {},
     "output_type": "execute_result"
    }
   ],
   "source": [
    "# Sales by Loyalty Status\n",
    "df.groupby([\"Loyalty_Member\"])[\"Total_Price\"].sum().sort_values(ascending=False)"
   ]
  },
  {
   "cell_type": "code",
   "execution_count": 15,
   "metadata": {},
   "outputs": [
    {
     "data": {
      "text/plain": [
       "Loyalty_Member\n",
       "No     974291.26\n",
       "Yes    270605.70\n",
       "Name: Add_on_Total, dtype: float64"
      ]
     },
     "execution_count": 15,
     "metadata": {},
     "output_type": "execute_result"
    }
   ],
   "source": [
    "# add on Sales by Loyalty Status\n",
    "df.groupby([\"Loyalty_Member\"])[\"Add_on_Total\"].sum().sort_values(ascending=False)"
   ]
  },
  {
   "cell_type": "code",
   "execution_count": 16,
   "metadata": {},
   "outputs": [],
   "source": [
    "# extract year from date columm\n",
    "df[\"Year\"] = df[\"Purchase_Date\"].dt.year"
   ]
  },
  {
   "cell_type": "code",
   "execution_count": 17,
   "metadata": {},
   "outputs": [],
   "source": [
    "# extract Month from date columm\n",
    "df[\"Month\"] = df[\"Purchase_Date\"].dt.month"
   ]
  },
  {
   "cell_type": "code",
   "execution_count": 18,
   "metadata": {},
   "outputs": [],
   "source": [
    "# extract Month Name from date columm\n",
    "df[\"Month_Name\"] = df[\"Purchase_Date\"].dt.month_name()"
   ]
  },
  {
   "cell_type": "code",
   "execution_count": 19,
   "metadata": {},
   "outputs": [
    {
     "data": {
      "text/plain": [
       "Year\n",
       "2024    56753105.76\n",
       "2023     6849562.61\n",
       "Name: Total_Price, dtype: float64"
      ]
     },
     "execution_count": 19,
     "metadata": {},
     "output_type": "execute_result"
    }
   ],
   "source": [
    "# total Sales By year\n",
    "df.groupby([\"Year\"])[\"Total_Price\"].sum().sort_values(ascending=False)"
   ]
  },
  {
   "cell_type": "code",
   "execution_count": 20,
   "metadata": {},
   "outputs": [
    {
     "name": "stdout",
     "output_type": "stream",
     "text": [
      "    Year Month_Name  Total_Price\n",
      "0   2023    January    253367.55\n",
      "1   2023   February    208044.34\n",
      "2   2023      March    211371.53\n",
      "3   2023      April    221431.53\n",
      "4   2023        May    214958.43\n",
      "5   2023       June    200144.62\n",
      "6   2023       July    194448.81\n",
      "7   2023     August    164148.96\n",
      "8   2023  September    691027.07\n",
      "9   2023    October   1561414.20\n",
      "10  2023   November   1460809.52\n",
      "11  2023   December   1468396.05\n",
      "12  2024    January   5761554.56\n",
      "13  2024   February   5400047.66\n",
      "14  2024      March   5978239.43\n",
      "15  2024      April   5674029.53\n",
      "16  2024        May   6022976.05\n",
      "17  2024       June   5790867.86\n",
      "18  2024       July   6136940.48\n",
      "19  2024     August   5959905.96\n",
      "20  2024  September   4393907.93\n",
      "21  2024    October   1916589.18\n",
      "22  2024   November   1745846.41\n",
      "23  2024   December   1972200.71\n"
     ]
    }
   ],
   "source": [
    "# total Sales By year and Month\n",
    "df_grouped = df.groupby([\"Year\", \"Month\", \"Month_Name\"])[\"Total_Price\"].sum().reset_index()\n",
    "\n",
    "# Sort by Year and Month_Number to ensure the correct order\n",
    "df_sorted = df_grouped.sort_values(by=[\"Year\", \"Month\"])\n",
    "df_sorted = df_sorted.drop(\"Month\", axis=1)\n",
    "\n",
    "print(df_sorted)"
   ]
  },
  {
   "cell_type": "code",
   "execution_count": 21,
   "metadata": {},
   "outputs": [
    {
     "name": "stdout",
     "output_type": "stream",
     "text": [
      "    Year Month_Name  Quantity\n",
      "0   2023    January       559\n",
      "1   2023   February       398\n",
      "2   2023      March       421\n",
      "3   2023      April       444\n",
      "4   2023        May       462\n",
      "5   2023       June       512\n",
      "6   2023       July       459\n",
      "7   2023     August       348\n",
      "8   2023  September      1500\n",
      "9   2023    October      3391\n",
      "10  2023   November      2963\n",
      "11  2023   December      3255\n",
      "12  2024    January      9512\n",
      "13  2024   February      9115\n",
      "14  2024      March     10043\n",
      "15  2024      April      9621\n",
      "16  2024        May     10178\n",
      "17  2024       June      9549\n",
      "18  2024       July     10221\n",
      "19  2024     August      9938\n",
      "20  2024  September      7322\n",
      "21  2024    October      3166\n",
      "22  2024   November      3078\n",
      "23  2024   December      3256\n"
     ]
    }
   ],
   "source": [
    "# Quantity Sold By year and Month\n",
    "df_groupby = df.groupby([\"Year\",\"Month\",\"Month_Name\"])[\"Quantity\"].sum().reset_index()\n",
    "sorted_values = df_groupby.sort_values(by=[\"Year\",\"Month\"])\n",
    "sorted_values = sorted_values.drop(\"Month\",axis=1)\n",
    "print(sorted_values)"
   ]
  },
  {
   "cell_type": "code",
   "execution_count": 22,
   "metadata": {},
   "outputs": [
    {
     "data": {
      "text/plain": [
       "Product_Type\n",
       "Smartphone    32660\n",
       "Tablet        22653\n",
       "Smartwatch    21631\n",
       "Laptop        21584\n",
       "Headphones    11183\n",
       "Name: Quantity, dtype: int64"
      ]
     },
     "execution_count": 22,
     "metadata": {},
     "output_type": "execute_result"
    }
   ],
   "source": [
    "# Quantity Sold by Product Type\n",
    "df.groupby(\"Product_Type\")[\"Quantity\"].sum().sort_values(ascending=False)\n"
   ]
  },
  {
   "cell_type": "code",
   "execution_count": 23,
   "metadata": {},
   "outputs": [
    {
     "data": {
      "text/plain": [
       "Shipping_Type\n",
       "Standard     6725\n",
       "Express      3366\n",
       "Overnight    3357\n",
       "Same Day     3280\n",
       "Expedited    3272\n",
       "Name: Product_Type, dtype: int64"
      ]
     },
     "execution_count": 23,
     "metadata": {},
     "output_type": "execute_result"
    }
   ],
   "source": [
    "# Most Orders by Shipping Type\n",
    "df.groupby(\"Shipping_Type\")[\"Product_Type\"].count().sort_values(ascending=False)"
   ]
  },
  {
   "cell_type": "code",
   "execution_count": 32,
   "metadata": {},
   "outputs": [
    {
     "name": "stdout",
     "output_type": "stream",
     "text": [
      "Payment_Method\n",
      "Credit Card      1969\n",
      "Bank Transfer    1112\n",
      "PayPal           1049\n",
      "Paypal            886\n",
      "Debit Card        787\n",
      "Cash              765\n",
      "Name: Product_Type, dtype: int64\n"
     ]
    }
   ],
   "source": [
    "# Most Order Cancel by Payment Method\n",
    "cancel_orders = df[df[\"Order_Status\"] == \"Cancelled\"]\n",
    "count_group = cancel_orders.groupby(\"Payment_Method\")[\"Product_Type\"].count()\n",
    "sort = count_group.sort_values(ascending=False)\n",
    "print(sort)"
   ]
  },
  {
   "cell_type": "code",
   "execution_count": 35,
   "metadata": {},
   "outputs": [
    {
     "data": {
      "text/plain": [
       "Payment_Method\n",
       "Credit Card      32031\n",
       "Bank Transfer    18592\n",
       "PayPal           18182\n",
       "Paypal           13775\n",
       "Debit Card       13668\n",
       "Cash             13463\n",
       "Name: Quantity, dtype: int64"
      ]
     },
     "execution_count": 35,
     "metadata": {},
     "output_type": "execute_result"
    }
   ],
   "source": [
    "# Most Quantity Sold Payment Method\n",
    "df.groupby(\"Payment_Method\")[\"Quantity\"].sum().sort_values(ascending=False)\n"
   ]
  },
  {
   "cell_type": "code",
   "execution_count": 25,
   "metadata": {},
   "outputs": [
    {
     "data": {
      "text/html": [
       "<div>\n",
       "<style scoped>\n",
       "    .dataframe tbody tr th:only-of-type {\n",
       "        vertical-align: middle;\n",
       "    }\n",
       "\n",
       "    .dataframe tbody tr th {\n",
       "        vertical-align: top;\n",
       "    }\n",
       "\n",
       "    .dataframe thead th {\n",
       "        text-align: right;\n",
       "    }\n",
       "</style>\n",
       "<table border=\"1\" class=\"dataframe\">\n",
       "  <thead>\n",
       "    <tr style=\"text-align: right;\">\n",
       "      <th></th>\n",
       "      <th>Customer_ID</th>\n",
       "      <th>Age</th>\n",
       "      <th>Gender</th>\n",
       "      <th>Loyalty_Member</th>\n",
       "      <th>Product_Type</th>\n",
       "      <th>SKU</th>\n",
       "      <th>Rating</th>\n",
       "      <th>Order_Status</th>\n",
       "      <th>Payment_Method</th>\n",
       "      <th>Total_Price</th>\n",
       "      <th>Unit_Price</th>\n",
       "      <th>Quantity</th>\n",
       "      <th>Purchase_Date</th>\n",
       "      <th>Shipping_Type</th>\n",
       "      <th>Add_ons_Purchased</th>\n",
       "      <th>Add_on_Total</th>\n",
       "      <th>Year</th>\n",
       "      <th>Month</th>\n",
       "      <th>Month_Name</th>\n",
       "    </tr>\n",
       "  </thead>\n",
       "  <tbody>\n",
       "    <tr>\n",
       "      <th>0</th>\n",
       "      <td>1000</td>\n",
       "      <td>53</td>\n",
       "      <td>Male</td>\n",
       "      <td>No</td>\n",
       "      <td>Smartphone</td>\n",
       "      <td>SKU1004</td>\n",
       "      <td>2</td>\n",
       "      <td>Cancelled</td>\n",
       "      <td>Credit Card</td>\n",
       "      <td>5538.33</td>\n",
       "      <td>791.19</td>\n",
       "      <td>7</td>\n",
       "      <td>2024-03-20</td>\n",
       "      <td>Standard</td>\n",
       "      <td>Accessory,Accessory,Accessory</td>\n",
       "      <td>40.21</td>\n",
       "      <td>2024</td>\n",
       "      <td>3</td>\n",
       "      <td>March</td>\n",
       "    </tr>\n",
       "    <tr>\n",
       "      <th>1</th>\n",
       "      <td>1000</td>\n",
       "      <td>53</td>\n",
       "      <td>Male</td>\n",
       "      <td>No</td>\n",
       "      <td>Tablet</td>\n",
       "      <td>SKU1002</td>\n",
       "      <td>3</td>\n",
       "      <td>Completed</td>\n",
       "      <td>Paypal</td>\n",
       "      <td>741.09</td>\n",
       "      <td>247.03</td>\n",
       "      <td>3</td>\n",
       "      <td>2024-04-20</td>\n",
       "      <td>Overnight</td>\n",
       "      <td>Impulse Item</td>\n",
       "      <td>26.09</td>\n",
       "      <td>2024</td>\n",
       "      <td>4</td>\n",
       "      <td>April</td>\n",
       "    </tr>\n",
       "    <tr>\n",
       "      <th>2</th>\n",
       "      <td>1002</td>\n",
       "      <td>41</td>\n",
       "      <td>Male</td>\n",
       "      <td>No</td>\n",
       "      <td>Laptop</td>\n",
       "      <td>SKU1005</td>\n",
       "      <td>3</td>\n",
       "      <td>Completed</td>\n",
       "      <td>Credit Card</td>\n",
       "      <td>1855.84</td>\n",
       "      <td>463.96</td>\n",
       "      <td>4</td>\n",
       "      <td>2023-10-17</td>\n",
       "      <td>Express</td>\n",
       "      <td>NaN</td>\n",
       "      <td>0.00</td>\n",
       "      <td>2023</td>\n",
       "      <td>10</td>\n",
       "      <td>October</td>\n",
       "    </tr>\n",
       "    <tr>\n",
       "      <th>3</th>\n",
       "      <td>1002</td>\n",
       "      <td>41</td>\n",
       "      <td>Male</td>\n",
       "      <td>Yes</td>\n",
       "      <td>Smartphone</td>\n",
       "      <td>SKU1004</td>\n",
       "      <td>2</td>\n",
       "      <td>Completed</td>\n",
       "      <td>Cash</td>\n",
       "      <td>3164.76</td>\n",
       "      <td>791.19</td>\n",
       "      <td>4</td>\n",
       "      <td>2024-09-08</td>\n",
       "      <td>Overnight</td>\n",
       "      <td>Impulse Item,Impulse Item</td>\n",
       "      <td>60.16</td>\n",
       "      <td>2024</td>\n",
       "      <td>9</td>\n",
       "      <td>September</td>\n",
       "    </tr>\n",
       "    <tr>\n",
       "      <th>4</th>\n",
       "      <td>1003</td>\n",
       "      <td>75</td>\n",
       "      <td>Male</td>\n",
       "      <td>Yes</td>\n",
       "      <td>Smartphone</td>\n",
       "      <td>SKU1001</td>\n",
       "      <td>5</td>\n",
       "      <td>Completed</td>\n",
       "      <td>Cash</td>\n",
       "      <td>41.50</td>\n",
       "      <td>20.75</td>\n",
       "      <td>2</td>\n",
       "      <td>2024-05-21</td>\n",
       "      <td>Express</td>\n",
       "      <td>Accessory</td>\n",
       "      <td>35.56</td>\n",
       "      <td>2024</td>\n",
       "      <td>5</td>\n",
       "      <td>May</td>\n",
       "    </tr>\n",
       "    <tr>\n",
       "      <th>...</th>\n",
       "      <td>...</td>\n",
       "      <td>...</td>\n",
       "      <td>...</td>\n",
       "      <td>...</td>\n",
       "      <td>...</td>\n",
       "      <td>...</td>\n",
       "      <td>...</td>\n",
       "      <td>...</td>\n",
       "      <td>...</td>\n",
       "      <td>...</td>\n",
       "      <td>...</td>\n",
       "      <td>...</td>\n",
       "      <td>...</td>\n",
       "      <td>...</td>\n",
       "      <td>...</td>\n",
       "      <td>...</td>\n",
       "      <td>...</td>\n",
       "      <td>...</td>\n",
       "      <td>...</td>\n",
       "    </tr>\n",
       "    <tr>\n",
       "      <th>19995</th>\n",
       "      <td>19996</td>\n",
       "      <td>27</td>\n",
       "      <td>Female</td>\n",
       "      <td>No</td>\n",
       "      <td>Smartphone</td>\n",
       "      <td>SMP234</td>\n",
       "      <td>4</td>\n",
       "      <td>Completed</td>\n",
       "      <td>Bank Transfer</td>\n",
       "      <td>6838.08</td>\n",
       "      <td>1139.68</td>\n",
       "      <td>6</td>\n",
       "      <td>2024-06-15</td>\n",
       "      <td>Expedited</td>\n",
       "      <td>NaN</td>\n",
       "      <td>0.00</td>\n",
       "      <td>2024</td>\n",
       "      <td>6</td>\n",
       "      <td>June</td>\n",
       "    </tr>\n",
       "    <tr>\n",
       "      <th>19996</th>\n",
       "      <td>19996</td>\n",
       "      <td>27</td>\n",
       "      <td>Female</td>\n",
       "      <td>Yes</td>\n",
       "      <td>Laptop</td>\n",
       "      <td>LTP123</td>\n",
       "      <td>4</td>\n",
       "      <td>Cancelled</td>\n",
       "      <td>Credit Card</td>\n",
       "      <td>2697.28</td>\n",
       "      <td>674.32</td>\n",
       "      <td>4</td>\n",
       "      <td>2024-07-18</td>\n",
       "      <td>Standard</td>\n",
       "      <td>NaN</td>\n",
       "      <td>0.00</td>\n",
       "      <td>2024</td>\n",
       "      <td>7</td>\n",
       "      <td>July</td>\n",
       "    </tr>\n",
       "    <tr>\n",
       "      <th>19997</th>\n",
       "      <td>19996</td>\n",
       "      <td>27</td>\n",
       "      <td>Female</td>\n",
       "      <td>No</td>\n",
       "      <td>Headphones</td>\n",
       "      <td>HDP456</td>\n",
       "      <td>4</td>\n",
       "      <td>Completed</td>\n",
       "      <td>Bank Transfer</td>\n",
       "      <td>1805.90</td>\n",
       "      <td>361.18</td>\n",
       "      <td>5</td>\n",
       "      <td>2024-08-26</td>\n",
       "      <td>Standard</td>\n",
       "      <td>Impulse Item, Extended Warranty, Accessory</td>\n",
       "      <td>198.98</td>\n",
       "      <td>2024</td>\n",
       "      <td>8</td>\n",
       "      <td>August</td>\n",
       "    </tr>\n",
       "    <tr>\n",
       "      <th>19998</th>\n",
       "      <td>19997</td>\n",
       "      <td>27</td>\n",
       "      <td>Male</td>\n",
       "      <td>No</td>\n",
       "      <td>Headphones</td>\n",
       "      <td>HDP456</td>\n",
       "      <td>1</td>\n",
       "      <td>Cancelled</td>\n",
       "      <td>Bank Transfer</td>\n",
       "      <td>2528.26</td>\n",
       "      <td>361.18</td>\n",
       "      <td>7</td>\n",
       "      <td>2024-06-01</td>\n",
       "      <td>Expedited</td>\n",
       "      <td>Extended Warranty, Accessory</td>\n",
       "      <td>101.34</td>\n",
       "      <td>2024</td>\n",
       "      <td>6</td>\n",
       "      <td>June</td>\n",
       "    </tr>\n",
       "    <tr>\n",
       "      <th>19999</th>\n",
       "      <td>19998</td>\n",
       "      <td>27</td>\n",
       "      <td>NaN</td>\n",
       "      <td>Yes</td>\n",
       "      <td>Laptop</td>\n",
       "      <td>LTP123</td>\n",
       "      <td>4</td>\n",
       "      <td>Completed</td>\n",
       "      <td>Bank Transfer</td>\n",
       "      <td>674.32</td>\n",
       "      <td>674.32</td>\n",
       "      <td>1</td>\n",
       "      <td>2024-01-29</td>\n",
       "      <td>Expedited</td>\n",
       "      <td>NaN</td>\n",
       "      <td>0.00</td>\n",
       "      <td>2024</td>\n",
       "      <td>1</td>\n",
       "      <td>January</td>\n",
       "    </tr>\n",
       "  </tbody>\n",
       "</table>\n",
       "<p>20000 rows × 19 columns</p>\n",
       "</div>"
      ],
      "text/plain": [
       "       Customer_ID  Age  Gender Loyalty_Member Product_Type      SKU  Rating  \\\n",
       "0             1000   53    Male             No   Smartphone  SKU1004       2   \n",
       "1             1000   53    Male             No       Tablet  SKU1002       3   \n",
       "2             1002   41    Male             No       Laptop  SKU1005       3   \n",
       "3             1002   41    Male            Yes   Smartphone  SKU1004       2   \n",
       "4             1003   75    Male            Yes   Smartphone  SKU1001       5   \n",
       "...            ...  ...     ...            ...          ...      ...     ...   \n",
       "19995        19996   27  Female             No   Smartphone   SMP234       4   \n",
       "19996        19996   27  Female            Yes       Laptop   LTP123       4   \n",
       "19997        19996   27  Female             No   Headphones   HDP456       4   \n",
       "19998        19997   27    Male             No   Headphones   HDP456       1   \n",
       "19999        19998   27     NaN            Yes       Laptop   LTP123       4   \n",
       "\n",
       "      Order_Status Payment_Method  Total_Price  Unit_Price  Quantity  \\\n",
       "0        Cancelled    Credit Card      5538.33      791.19         7   \n",
       "1        Completed         Paypal       741.09      247.03         3   \n",
       "2        Completed    Credit Card      1855.84      463.96         4   \n",
       "3        Completed           Cash      3164.76      791.19         4   \n",
       "4        Completed           Cash        41.50       20.75         2   \n",
       "...            ...            ...          ...         ...       ...   \n",
       "19995    Completed  Bank Transfer      6838.08     1139.68         6   \n",
       "19996    Cancelled    Credit Card      2697.28      674.32         4   \n",
       "19997    Completed  Bank Transfer      1805.90      361.18         5   \n",
       "19998    Cancelled  Bank Transfer      2528.26      361.18         7   \n",
       "19999    Completed  Bank Transfer       674.32      674.32         1   \n",
       "\n",
       "      Purchase_Date Shipping_Type                           Add_ons_Purchased  \\\n",
       "0        2024-03-20      Standard               Accessory,Accessory,Accessory   \n",
       "1        2024-04-20     Overnight                                Impulse Item   \n",
       "2        2023-10-17       Express                                         NaN   \n",
       "3        2024-09-08     Overnight                   Impulse Item,Impulse Item   \n",
       "4        2024-05-21       Express                                   Accessory   \n",
       "...             ...           ...                                         ...   \n",
       "19995    2024-06-15     Expedited                                         NaN   \n",
       "19996    2024-07-18      Standard                                         NaN   \n",
       "19997    2024-08-26      Standard  Impulse Item, Extended Warranty, Accessory   \n",
       "19998    2024-06-01     Expedited                Extended Warranty, Accessory   \n",
       "19999    2024-01-29     Expedited                                         NaN   \n",
       "\n",
       "       Add_on_Total  Year  Month Month_Name  \n",
       "0             40.21  2024      3      March  \n",
       "1             26.09  2024      4      April  \n",
       "2              0.00  2023     10    October  \n",
       "3             60.16  2024      9  September  \n",
       "4             35.56  2024      5        May  \n",
       "...             ...   ...    ...        ...  \n",
       "19995          0.00  2024      6       June  \n",
       "19996          0.00  2024      7       July  \n",
       "19997        198.98  2024      8     August  \n",
       "19998        101.34  2024      6       June  \n",
       "19999          0.00  2024      1    January  \n",
       "\n",
       "[20000 rows x 19 columns]"
      ]
     },
     "execution_count": 25,
     "metadata": {},
     "output_type": "execute_result"
    }
   ],
   "source": [
    "df"
   ]
  }
 ],
 "metadata": {
  "kernelspec": {
   "display_name": "Python 3",
   "language": "python",
   "name": "python3"
  },
  "language_info": {
   "codemirror_mode": {
    "name": "ipython",
    "version": 3
   },
   "file_extension": ".py",
   "mimetype": "text/x-python",
   "name": "python",
   "nbconvert_exporter": "python",
   "pygments_lexer": "ipython3",
   "version": "3.12.1"
  }
 },
 "nbformat": 4,
 "nbformat_minor": 2
}
